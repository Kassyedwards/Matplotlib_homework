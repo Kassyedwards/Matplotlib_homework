{
 "cells": [
  {
   "cell_type": "code",
   "execution_count": 189,
   "metadata": {},
   "outputs": [
    {
     "data": {
      "text/html": [
       "<div>\n",
       "<style scoped>\n",
       "    .dataframe tbody tr th:only-of-type {\n",
       "        vertical-align: middle;\n",
       "    }\n",
       "\n",
       "    .dataframe tbody tr th {\n",
       "        vertical-align: top;\n",
       "    }\n",
       "\n",
       "    .dataframe thead th {\n",
       "        text-align: right;\n",
       "    }\n",
       "</style>\n",
       "<table border=\"1\" class=\"dataframe\">\n",
       "  <thead>\n",
       "    <tr style=\"text-align: right;\">\n",
       "      <th></th>\n",
       "      <th>city</th>\n",
       "      <th>driver_count</th>\n",
       "      <th>type</th>\n",
       "      <th>date</th>\n",
       "      <th>fare</th>\n",
       "      <th>ride_id</th>\n",
       "    </tr>\n",
       "  </thead>\n",
       "  <tbody>\n",
       "    <tr>\n",
       "      <th>0</th>\n",
       "      <td>Richardfort</td>\n",
       "      <td>38</td>\n",
       "      <td>Urban</td>\n",
       "      <td>2018-02-24 08:40:38</td>\n",
       "      <td>13.93</td>\n",
       "      <td>5628545007794</td>\n",
       "    </tr>\n",
       "    <tr>\n",
       "      <th>1</th>\n",
       "      <td>Richardfort</td>\n",
       "      <td>38</td>\n",
       "      <td>Urban</td>\n",
       "      <td>2018-02-13 12:46:07</td>\n",
       "      <td>14.00</td>\n",
       "      <td>910050116494</td>\n",
       "    </tr>\n",
       "    <tr>\n",
       "      <th>2</th>\n",
       "      <td>Richardfort</td>\n",
       "      <td>38</td>\n",
       "      <td>Urban</td>\n",
       "      <td>2018-02-16 13:52:19</td>\n",
       "      <td>17.92</td>\n",
       "      <td>820639054416</td>\n",
       "    </tr>\n",
       "    <tr>\n",
       "      <th>3</th>\n",
       "      <td>Richardfort</td>\n",
       "      <td>38</td>\n",
       "      <td>Urban</td>\n",
       "      <td>2018-02-01 20:18:28</td>\n",
       "      <td>10.26</td>\n",
       "      <td>9554935945413</td>\n",
       "    </tr>\n",
       "    <tr>\n",
       "      <th>4</th>\n",
       "      <td>Richardfort</td>\n",
       "      <td>38</td>\n",
       "      <td>Urban</td>\n",
       "      <td>2018-04-17 02:26:37</td>\n",
       "      <td>23.00</td>\n",
       "      <td>720020655850</td>\n",
       "    </tr>\n",
       "  </tbody>\n",
       "</table>\n",
       "</div>"
      ],
      "text/plain": [
       "          city  driver_count   type                 date   fare        ride_id\n",
       "0  Richardfort            38  Urban  2018-02-24 08:40:38  13.93  5628545007794\n",
       "1  Richardfort            38  Urban  2018-02-13 12:46:07  14.00   910050116494\n",
       "2  Richardfort            38  Urban  2018-02-16 13:52:19  17.92   820639054416\n",
       "3  Richardfort            38  Urban  2018-02-01 20:18:28  10.26  9554935945413\n",
       "4  Richardfort            38  Urban  2018-04-17 02:26:37  23.00   720020655850"
      ]
     },
     "execution_count": 189,
     "metadata": {},
     "output_type": "execute_result"
    }
   ],
   "source": [
    "# Dependencies and Setup\n",
    "import matplotlib.pyplot as plt\n",
    "import matplotlib.patches as mpatches\n",
    "from matplotlib.widgets import TextBox\n",
    "import pandas as pd\n",
    "import numpy as np\n",
    "\n",
    "# File to Load \n",
    "city_data_to_load = \"/Users/kassyedwards/Desktop/MatPlotLibHW/city_data.csv\"\n",
    "ride_data_to_load = \"/Users/kassyedwards/Desktop/MatPlotLibHW/ride_data.csv\"\n",
    "\n",
    "# Read the City and Ride Data\n",
    "city_data= pd.read_csv(city_data_to_load)\n",
    "ride_data= pd.read_csv(ride_data_to_load)\n",
    "# Combine the data into a single dataset\n",
    "#merge_table = pd.merge(ride_data, city_data, on=\"city\", how=\"left\")\n",
    "merge_table=city_data.merge(ride_data)\n",
    "# Display the data table for preview\n",
    "merge_table.head()"
   ]
  },
  {
   "cell_type": "markdown",
   "metadata": {},
   "source": [
    "## Bubble Plot of Ride Sharing Data"
   ]
  },
  {
   "cell_type": "code",
   "execution_count": 190,
   "metadata": {},
   "outputs": [],
   "source": [
    "urban_loc = merge_table.loc[merge_table['type']== 'Urban']\n",
    "urbanx=urban_loc.groupby([\"type\",\"city\"])[\"fare\"].count()\n",
    "urbany=urban_loc.groupby([\"type\", \"city\"])[\"fare\"].mean()\n",
    "urbanxy=urban_loc.groupby([\"type\", \"city\"])[\"driver_count\"].first()\n",
    "\n",
    "sub_loc = merge_table.loc[merge_table['type']=='Suburban']\n",
    "subx=sub_loc.groupby([\"type\",\"city\"])[\"fare\"].count()\n",
    "suby=sub_loc.groupby([\"type\", \"city\"])[\"fare\"].mean()\n",
    "subxy=sub_loc.groupby([\"type\", \"city\"])[\"driver_count\"].first()\n",
    "\n",
    "rural_loc = merge_table.loc[merge_table['type']=='Rural']\n",
    "ruralx=rural_loc.groupby([\"type\",\"city\"])[\"fare\"].count()\n",
    "ruraly=rural_loc.groupby([\"type\", \"city\"])[\"fare\"].mean()\n",
    "ruralxy=rural_loc.groupby([\"type\", \"city\"])[\"driver_count\"].first()"
   ]
  },
  {
   "cell_type": "code",
   "execution_count": 358,
   "metadata": {},
   "outputs": [
    {
     "data": {
      "image/png": "[encoded data removed]",
      "text/plain": [
       "<Figure size 432x288 with 2 Axes>"
      ]
     },
     "metadata": {
      "needs_background": "light"
     },
     "output_type": "display_data"
    }
   ],
   "source": [
    "urban_scatter = plt.scatter(urbanx, urbany, s=urbanxy*8, marker=\"o\", alpha=0.5, edgecolors=\"black\")\n",
    "suburban_scatter = plt.scatter(subx, suby, s=subxy*8, marker=\"o\", alpha=0.5, edgecolors=\"black\")\n",
    "rural_scatter = plt.scatter(ruralx, ruraly, s=ruralxy*8, marker=\"o\", alpha=0.5, edgecolors=\"black\")\n",
    "# Incorporate the other graph properties\n",
    "\n",
    "plt.title(\"Pyber Ride Sharing Data\")\n",
    "plt.xlabel(\"Total Number of Rides\")\n",
    "plt.ylabel(\"Average Fare $\")\n",
    "# Create a legend\n",
    "\n",
    "leg = plt.legend((urban_scatter, suburban_scatter, rural_scatter), (\"Urban\",\"Suburban\",\"Rural\"), scatterpoints=1, loc= \"upper right\")\n",
    "\n",
    "# Incorporate a text label regarding circle size\n",
    "axbox = plt.axes([1, 0.06, 0.6, 0.075])\n",
    "text_box = TextBox(axbox, 'Note', initial=\"Circle Size Correlates With Driver Count By City\")\n",
    "# Save Figure\n",
    "plt.savefig(\"total_scatter.png\")"
   ]
  },
  {
   "cell_type": "markdown",
   "metadata": {},
   "source": [
    "## Total Fares by City Type"
   ]
  },
  {
   "cell_type": "code",
   "execution_count": 267,
   "metadata": {
    "scrolled": true
   },
   "outputs": [
    {
     "data": {
      "text/html": [
       "<div>\n",
       "<style scoped>\n",
       "    .dataframe tbody tr th:only-of-type {\n",
       "        vertical-align: middle;\n",
       "    }\n",
       "\n",
       "    .dataframe tbody tr th {\n",
       "        vertical-align: top;\n",
       "    }\n",
       "\n",
       "    .dataframe thead th {\n",
       "        text-align: right;\n",
       "    }\n",
       "</style>\n",
       "<table border=\"1\" class=\"dataframe\">\n",
       "  <thead>\n",
       "    <tr style=\"text-align: right;\">\n",
       "      <th></th>\n",
       "      <th>driver_count</th>\n",
       "      <th>fare</th>\n",
       "      <th>ride_id</th>\n",
       "    </tr>\n",
       "    <tr>\n",
       "      <th>type</th>\n",
       "      <th></th>\n",
       "      <th></th>\n",
       "      <th></th>\n",
       "    </tr>\n",
       "  </thead>\n",
       "  <tbody>\n",
       "    <tr>\n",
       "      <th>Rural</th>\n",
       "      <td>537</td>\n",
       "      <td>4327.93</td>\n",
       "      <td>580968240341287</td>\n",
       "    </tr>\n",
       "    <tr>\n",
       "      <th>Suburban</th>\n",
       "      <td>8570</td>\n",
       "      <td>19356.33</td>\n",
       "      <td>3106884522576766</td>\n",
       "    </tr>\n",
       "    <tr>\n",
       "      <th>Urban</th>\n",
       "      <td>59602</td>\n",
       "      <td>39854.38</td>\n",
       "      <td>7919412664056093</td>\n",
       "    </tr>\n",
       "  </tbody>\n",
       "</table>\n",
       "</div>"
      ],
      "text/plain": [
       "          driver_count      fare           ride_id\n",
       "type                                              \n",
       "Rural              537   4327.93   580968240341287\n",
       "Suburban          8570  19356.33  3106884522576766\n",
       "Urban            59602  39854.38  7919412664056093"
      ]
     },
     "execution_count": 267,
     "metadata": {},
     "output_type": "execute_result"
    }
   ],
   "source": [
    "# Calculate Type Percents\n",
    "count_fares = merge_table.groupby([\"type\"]).sum()\n",
    "count_fares"
   ]
  },
  {
   "cell_type": "code",
   "execution_count": 278,
   "metadata": {},
   "outputs": [],
   "source": [
    "pre_percent= count_fares[\"fare\"]"
   ]
  },
  {
   "cell_type": "code",
   "execution_count": 279,
   "metadata": {
    "scrolled": true
   },
   "outputs": [
    {
     "data": {
      "text/plain": [
       "type\n",
       "Rural        4327.93\n",
       "Suburban    19356.33\n",
       "Urban       39854.38\n",
       "Name: fare, dtype: float64"
      ]
     },
     "execution_count": 279,
     "metadata": {},
     "output_type": "execute_result"
    }
   ],
   "source": [
    "pre_percent"
   ]
  },
  {
   "cell_type": "code",
   "execution_count": 283,
   "metadata": {},
   "outputs": [],
   "source": [
    "rural_p=pre_percent[0]\n",
    "suburban_p=pre_percent[1]\n",
    "urban_p=pre_percent[2]\n",
    "total_p=pre_percent.sum()"
   ]
  },
  {
   "cell_type": "code",
   "execution_count": 287,
   "metadata": {},
   "outputs": [
    {
     "data": {
      "text/plain": [
       "6.8114929749834126"
      ]
     },
     "execution_count": 287,
     "metadata": {},
     "output_type": "execute_result"
    }
   ],
   "source": [
    "rural_fares= (rural_p/total_p)*100\n",
    "\n",
    "rural_fares"
   ]
  },
  {
   "cell_type": "code",
   "execution_count": 289,
   "metadata": {},
   "outputs": [
    {
     "data": {
      "text/plain": [
       "30.463872062732218"
      ]
     },
     "execution_count": 289,
     "metadata": {},
     "output_type": "execute_result"
    }
   ],
   "source": [
    "suburban_fares=(suburban_p/total_p)*100\n",
    "suburban_fares"
   ]
  },
  {
   "cell_type": "code",
   "execution_count": 290,
   "metadata": {},
   "outputs": [
    {
     "data": {
      "text/plain": [
       "62.72463496228438"
      ]
     },
     "execution_count": 290,
     "metadata": {},
     "output_type": "execute_result"
    }
   ],
   "source": [
    "urban_fares=(urban_p/total_p)*100\n",
    "urban_fares"
   ]
  },
  {
   "cell_type": "code",
   "execution_count": 357,
   "metadata": {
    "scrolled": true
   },
   "outputs": [
    {
     "data": {
      "image/png": "[encoded data removed]",
      "text/plain": [
       "<Figure size 432x288 with 1 Axes>"
      ]
     },
     "metadata": {},
     "output_type": "display_data"
    },
    {
     "data": {
      "text/plain": [
       "<Figure size 432x288 with 0 Axes>"
      ]
     },
     "metadata": {},
     "output_type": "display_data"
    }
   ],
   "source": [
    "# Build Pie Chart\n",
    "types=[\"Rural\", \"Suburban\",\"Urban\" ]\n",
    "all_percents1= [rural_fares, suburban_fares, urban_fares]\n",
    "explode =  (0,0,0.12)\n",
    "colors = [\"yellow\",\"skyblue\", \"coral\"]\n",
    "Fares_pie = plt.pie(all_percents1, explode=explode, labels=types, colors=colors,\n",
    "        autopct=\"%1.1f%%\", shadow=True, startangle=130)\n",
    "plt.title(\"Percent Of Total Fares By City Type\")\n",
    "plt.show()\n",
    "plt.savefig(\"total_fares.png\")"
   ]
  },
  {
   "cell_type": "markdown",
   "metadata": {},
   "source": [
    "## Total Rides by City Type"
   ]
  },
  {
   "cell_type": "code",
   "execution_count": 63,
   "metadata": {},
   "outputs": [
    {
     "data": {
      "text/html": [
       "<div>\n",
       "<style scoped>\n",
       "    .dataframe tbody tr th:only-of-type {\n",
       "        vertical-align: middle;\n",
       "    }\n",
       "\n",
       "    .dataframe tbody tr th {\n",
       "        vertical-align: top;\n",
       "    }\n",
       "\n",
       "    .dataframe thead th {\n",
       "        text-align: right;\n",
       "    }\n",
       "</style>\n",
       "<table border=\"1\" class=\"dataframe\">\n",
       "  <thead>\n",
       "    <tr style=\"text-align: right;\">\n",
       "      <th></th>\n",
       "      <th>city</th>\n",
       "      <th>date</th>\n",
       "      <th>fare</th>\n",
       "      <th>ride_id</th>\n",
       "      <th>driver_count</th>\n",
       "      <th>type</th>\n",
       "    </tr>\n",
       "    <tr>\n",
       "      <th>type</th>\n",
       "      <th></th>\n",
       "      <th></th>\n",
       "      <th></th>\n",
       "      <th></th>\n",
       "      <th></th>\n",
       "      <th></th>\n",
       "    </tr>\n",
       "  </thead>\n",
       "  <tbody>\n",
       "    <tr>\n",
       "      <th>Rural</th>\n",
       "      <td>18</td>\n",
       "      <td>125</td>\n",
       "      <td>122</td>\n",
       "      <td>125</td>\n",
       "      <td>7</td>\n",
       "      <td>1</td>\n",
       "    </tr>\n",
       "    <tr>\n",
       "      <th>Suburban</th>\n",
       "      <td>36</td>\n",
       "      <td>625</td>\n",
       "      <td>584</td>\n",
       "      <td>625</td>\n",
       "      <td>18</td>\n",
       "      <td>1</td>\n",
       "    </tr>\n",
       "    <tr>\n",
       "      <th>Urban</th>\n",
       "      <td>66</td>\n",
       "      <td>1625</td>\n",
       "      <td>1346</td>\n",
       "      <td>1625</td>\n",
       "      <td>45</td>\n",
       "      <td>1</td>\n",
       "    </tr>\n",
       "  </tbody>\n",
       "</table>\n",
       "</div>"
      ],
      "text/plain": [
       "          city  date  fare  ride_id  driver_count  type\n",
       "type                                                   \n",
       "Rural       18   125   122      125             7     1\n",
       "Suburban    36   625   584      625            18     1\n",
       "Urban       66  1625  1346     1625            45     1"
      ]
     },
     "execution_count": 63,
     "metadata": {},
     "output_type": "execute_result"
    }
   ],
   "source": [
    "count_types = merge_table.groupby(\"type\").nunique([\"city\"])\n",
    "count_types.head()"
   ]
  },
  {
   "cell_type": "code",
   "execution_count": 211,
   "metadata": {},
   "outputs": [
    {
     "data": {
      "text/plain": [
       "Urban       0.684211\n",
       "Suburban    0.263158\n",
       "Rural       0.052632\n",
       "Name: type, dtype: float64"
      ]
     },
     "execution_count": 211,
     "metadata": {},
     "output_type": "execute_result"
    }
   ],
   "source": [
    "# Calculate Ride Percents\n",
    "percents = merge_table[\"type\"].value_counts(\"Rural\")\n",
    "percents"
   ]
  },
  {
   "cell_type": "code",
   "execution_count": null,
   "metadata": {},
   "outputs": [],
   "source": [
    "#need to programatically pull the numbers into the chart instead of hard coding"
   ]
  },
  {
   "cell_type": "code",
   "execution_count": 356,
   "metadata": {},
   "outputs": [
    {
     "data": {
      "image/png": "[encoded data removed]",
      "text/plain": [
       "<Figure size 432x288 with 1 Axes>"
      ]
     },
     "metadata": {},
     "output_type": "display_data"
    },
    {
     "data": {
      "text/plain": [
       "<Figure size 432x288 with 0 Axes>"
      ]
     },
     "metadata": {},
     "output_type": "display_data"
    }
   ],
   "source": [
    "# Build Pie Chart\n",
    "types=[\"Urban\", \"Suburban\", \"Rural\"]\n",
    "all_percents = [68.42, 26.31, 5.26]\n",
    "explode =  (0.1,0,0)\n",
    "colors = [\"coral\",\"skyblue\", \"yellow\"]\n",
    "city_pie = plt.pie(all_percents, explode=explode, labels=types, colors=colors,\n",
    "        autopct=\"%1.1f%%\", shadow=True, startangle=120)\n",
    "plt.title(\"Percent of Total Rides By City Type\")\n",
    "plt.show()\n",
    "# Save Figure\n",
    "plt.savefig(\"total_ride.png\")"
   ]
  },
  {
   "cell_type": "markdown",
   "metadata": {},
   "source": [
    "## Total Drivers by City Type"
   ]
  },
  {
   "cell_type": "code",
   "execution_count": 339,
   "metadata": {
    "scrolled": true
   },
   "outputs": [],
   "source": [
    "urbanxy=urban_loc.groupby([\"type\", \"city\"])[\"driver_count\"].first()\n",
    "total_urb_drivers=urbanxy.sum() "
   ]
  },
  {
   "cell_type": "code",
   "execution_count": 340,
   "metadata": {},
   "outputs": [],
   "source": [
    "subxy=sub_loc.groupby([\"type\", \"city\"])[\"driver_count\"].first()\n",
    "total_sub_drivers=subxy.sum()"
   ]
  },
  {
   "cell_type": "code",
   "execution_count": 341,
   "metadata": {},
   "outputs": [],
   "source": [
    "ruralxy=rural_loc.groupby([\"type\", \"city\"])[\"driver_count\"].first()\n",
    "total_rural_drivers=ruralxy.sum()"
   ]
  },
  {
   "cell_type": "code",
   "execution_count": 343,
   "metadata": {},
   "outputs": [
    {
     "data": {
      "text/plain": [
       "2973"
      ]
     },
     "execution_count": 343,
     "metadata": {},
     "output_type": "execute_result"
    }
   ],
   "source": [
    "all_drivers=total_urb_drivers+total_sub_drivers+total_rural_drivers\n",
    "all_drivers"
   ]
  },
  {
   "cell_type": "code",
   "execution_count": 344,
   "metadata": {},
   "outputs": [],
   "source": [
    "r_driver_p=(total_rural_drivers/all_drivers)*100\n",
    "s_driver_p=(total_sub_drivers/all_drivers)*100\n",
    "u_driver_p=(total_urb_drivers/all_drivers)*100"
   ]
  },
  {
   "cell_type": "code",
   "execution_count": 355,
   "metadata": {},
   "outputs": [
    {
     "data": {
      "image/png": "[encoded data removed]",
      "text/plain": [
       "<Figure size 432x288 with 1 Axes>"
      ]
     },
     "metadata": {},
     "output_type": "display_data"
    },
    {
     "data": {
      "text/plain": [
       "<Figure size 432x288 with 0 Axes>"
      ]
     },
     "metadata": {},
     "output_type": "display_data"
    }
   ],
   "source": [
    "# Calculate Driver Percents\n",
    "\n",
    "# Build Pie Charts\n",
    "types=[\"Rural\", \"Suburban\", \"Urban\"]\n",
    "all_percents2 = [r_driver_p, s_driver_p, u_driver_p]\n",
    "explode =  (0,0,0.12)\n",
    "colors = [\"yellow\",\"skyblue\", \"coral\"]\n",
    "city_pie = plt.pie(all_percents2, explode=explode, labels=types, colors=colors,\n",
    "        autopct=\"%1.1f%%\", shadow=True, startangle=160)\n",
    "plt.title(\"Percent of Total Drivers by City Type\")\n",
    "plt.show()\n",
    "# Save Figure\n",
    "plt.savefig(\"total_drivers.png\")"
   ]
  },
  {
   "cell_type": "code",
   "execution_count": null,
   "metadata": {
    "scrolled": true
   },
   "outputs": [],
   "source": []
  },
  {
   "cell_type": "code",
   "execution_count": null,
   "metadata": {},
   "outputs": [],
   "source": []
  }
 ],
 "metadata": {
  "anaconda-cloud": {},
  "kernelspec": {
   "display_name": "Python 3",
   "language": "python",
   "name": "python3"
  },
  "language_info": {
   "codemirror_mode": {
    "name": "ipython",
    "version": 3
   },
   "file_extension": ".py",
   "mimetype": "text/x-python",
   "name": "python",
   "nbconvert_exporter": "python",
   "pygments_lexer": "ipython3",
   "version": "3.7.1"
  }
 },
 "nbformat": 4,
 "nbformat_minor": 2
}
